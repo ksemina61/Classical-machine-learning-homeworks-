{
  "cells": [
    {
      "cell_type": "markdown",
      "id": "761cb4ef-b9a4-41a7-a22d-d890b39e76c3",
      "metadata": {
        "id": "761cb4ef-b9a4-41a7-a22d-d890b39e76c3"
      },
      "source": [
        "Поработаем над датасетом из соревнования [UtkMl](https://www.kaggle.com/competitions/utkmls-twitter-spam-detection-competition/overview) про определение спама в твитах.  "
      ]
    },
    {
      "cell_type": "code",
      "execution_count": null,
      "id": "a896f68d-babe-41e8-bbc7-2db43e5d625b",
      "metadata": {
        "tags": [],
        "id": "a896f68d-babe-41e8-bbc7-2db43e5d625b"
      },
      "outputs": [],
      "source": [
        "import pandas as pd\n",
        "import numpy as np\n",
        "\n",
        "from sklearn.model_selection import train_test_split\n",
        "from sklearn.pipeline import Pipeline\n",
        "\n",
        "from sklearn.compose import ColumnTransformer # обрабатывает и текстовые признаки и нетекстовые\n",
        "from sklearn.feature_extraction.text import CountVectorizer\n",
        "from sklearn.feature_extraction.text import TfidfVectorizer\n",
        "from sklearn.impute import SimpleImputer\n",
        "from sklearn.preprocessing import StandardScaler\n",
        "\n",
        "from sklearn.linear_model import LogisticRegression\n",
        "from sklearn.svm import SVC\n",
        "from sklearn.tree import DecisionTreeClassifier\n",
        "from sklearn.ensemble import BaggingClassifier\n",
        "from sklearn.ensemble import RandomForestClassifier\n",
        "\n",
        "from sklearn.cluster import AgglomerativeClustering, KMeans\n",
        "from sklearn.decomposition import TruncatedSVD\n",
        "from sklearn.manifold import TSNE\n",
        "from sklearn import metrics\n",
        "\n",
        "from sklearn.metrics import classification_report\n",
        "\n",
        "from nltk.tokenize import word_tokenize\n",
        "\n",
        "from sklearn.metrics import accuracy_score\n",
        "\n",
        "import matplotlib.pyplot as plt\n",
        "import seaborn as sns"
      ]
    },
    {
      "cell_type": "code",
      "execution_count": null,
      "id": "34741a82-f113-4c4e-a2a0-e1916a6a66b3",
      "metadata": {
        "tags": [],
        "colab": {
          "base_uri": "https://localhost:8080/",
          "height": 206
        },
        "id": "34741a82-f113-4c4e-a2a0-e1916a6a66b3",
        "outputId": "200f853c-e6e0-4db5-9ffb-efb400e9be11"
      },
      "outputs": [
        {
          "output_type": "execute_result",
          "data": {
            "text/plain": [
              "                                               Tweet  following  followers  \\\n",
              "0                     Good Morning Love  @LeeBrown_V        0.0        0.0   \n",
              "1           '@realDonaldTrump @USNavy RIP TO HEROES'    42096.0    61060.0   \n",
              "2  Haven't been following the news but I understa...        0.0        0.0   \n",
              "3  pic.twitter.com/dy9q4ftLhZ What to do with pap...        0.0        0.0   \n",
              "4  #DidYouKnow ► Mahatma Gandhi made a brief visi...    17800.0    35100.0   \n",
              "\n",
              "   actions  is_retweet                        location     Type  \n",
              "0      0.0         0.0               Pennsylvania, USA  Quality  \n",
              "1   5001.0         0.0       South Padre Island, Texas     Spam  \n",
              "2      NaN         0.0  Will never be broke ever again  Quality  \n",
              "3      0.0         0.0                           Mundo  Quality  \n",
              "4      NaN         0.0             Nottingham, England  Quality  "
            ],
            "text/html": [
              "\n",
              "  <div id=\"df-27b972ad-7be6-4365-9192-8f017e5bc58e\" class=\"colab-df-container\">\n",
              "    <div>\n",
              "<style scoped>\n",
              "    .dataframe tbody tr th:only-of-type {\n",
              "        vertical-align: middle;\n",
              "    }\n",
              "\n",
              "    .dataframe tbody tr th {\n",
              "        vertical-align: top;\n",
              "    }\n",
              "\n",
              "    .dataframe thead th {\n",
              "        text-align: right;\n",
              "    }\n",
              "</style>\n",
              "<table border=\"1\" class=\"dataframe\">\n",
              "  <thead>\n",
              "    <tr style=\"text-align: right;\">\n",
              "      <th></th>\n",
              "      <th>Tweet</th>\n",
              "      <th>following</th>\n",
              "      <th>followers</th>\n",
              "      <th>actions</th>\n",
              "      <th>is_retweet</th>\n",
              "      <th>location</th>\n",
              "      <th>Type</th>\n",
              "    </tr>\n",
              "  </thead>\n",
              "  <tbody>\n",
              "    <tr>\n",
              "      <th>0</th>\n",
              "      <td>Good Morning Love  @LeeBrown_V</td>\n",
              "      <td>0.0</td>\n",
              "      <td>0.0</td>\n",
              "      <td>0.0</td>\n",
              "      <td>0.0</td>\n",
              "      <td>Pennsylvania, USA</td>\n",
              "      <td>Quality</td>\n",
              "    </tr>\n",
              "    <tr>\n",
              "      <th>1</th>\n",
              "      <td>'@realDonaldTrump @USNavy RIP TO HEROES'</td>\n",
              "      <td>42096.0</td>\n",
              "      <td>61060.0</td>\n",
              "      <td>5001.0</td>\n",
              "      <td>0.0</td>\n",
              "      <td>South Padre Island, Texas</td>\n",
              "      <td>Spam</td>\n",
              "    </tr>\n",
              "    <tr>\n",
              "      <th>2</th>\n",
              "      <td>Haven't been following the news but I understa...</td>\n",
              "      <td>0.0</td>\n",
              "      <td>0.0</td>\n",
              "      <td>NaN</td>\n",
              "      <td>0.0</td>\n",
              "      <td>Will never be broke ever again</td>\n",
              "      <td>Quality</td>\n",
              "    </tr>\n",
              "    <tr>\n",
              "      <th>3</th>\n",
              "      <td>pic.twitter.com/dy9q4ftLhZ What to do with pap...</td>\n",
              "      <td>0.0</td>\n",
              "      <td>0.0</td>\n",
              "      <td>0.0</td>\n",
              "      <td>0.0</td>\n",
              "      <td>Mundo</td>\n",
              "      <td>Quality</td>\n",
              "    </tr>\n",
              "    <tr>\n",
              "      <th>4</th>\n",
              "      <td>#DidYouKnow ► Mahatma Gandhi made a brief visi...</td>\n",
              "      <td>17800.0</td>\n",
              "      <td>35100.0</td>\n",
              "      <td>NaN</td>\n",
              "      <td>0.0</td>\n",
              "      <td>Nottingham, England</td>\n",
              "      <td>Quality</td>\n",
              "    </tr>\n",
              "  </tbody>\n",
              "</table>\n",
              "</div>\n",
              "    <div class=\"colab-df-buttons\">\n",
              "\n",
              "  <div class=\"colab-df-container\">\n",
              "    <button class=\"colab-df-convert\" onclick=\"convertToInteractive('df-27b972ad-7be6-4365-9192-8f017e5bc58e')\"\n",
              "            title=\"Convert this dataframe to an interactive table.\"\n",
              "            style=\"display:none;\">\n",
              "\n",
              "  <svg xmlns=\"http://www.w3.org/2000/svg\" height=\"24px\" viewBox=\"0 -960 960 960\">\n",
              "    <path d=\"M120-120v-720h720v720H120Zm60-500h600v-160H180v160Zm220 220h160v-160H400v160Zm0 220h160v-160H400v160ZM180-400h160v-160H180v160Zm440 0h160v-160H620v160ZM180-180h160v-160H180v160Zm440 0h160v-160H620v160Z\"/>\n",
              "  </svg>\n",
              "    </button>\n",
              "\n",
              "  <style>\n",
              "    .colab-df-container {\n",
              "      display:flex;\n",
              "      gap: 12px;\n",
              "    }\n",
              "\n",
              "    .colab-df-convert {\n",
              "      background-color: #E8F0FE;\n",
              "      border: none;\n",
              "      border-radius: 50%;\n",
              "      cursor: pointer;\n",
              "      display: none;\n",
              "      fill: #1967D2;\n",
              "      height: 32px;\n",
              "      padding: 0 0 0 0;\n",
              "      width: 32px;\n",
              "    }\n",
              "\n",
              "    .colab-df-convert:hover {\n",
              "      background-color: #E2EBFA;\n",
              "      box-shadow: 0px 1px 2px rgba(60, 64, 67, 0.3), 0px 1px 3px 1px rgba(60, 64, 67, 0.15);\n",
              "      fill: #174EA6;\n",
              "    }\n",
              "\n",
              "    .colab-df-buttons div {\n",
              "      margin-bottom: 4px;\n",
              "    }\n",
              "\n",
              "    [theme=dark] .colab-df-convert {\n",
              "      background-color: #3B4455;\n",
              "      fill: #D2E3FC;\n",
              "    }\n",
              "\n",
              "    [theme=dark] .colab-df-convert:hover {\n",
              "      background-color: #434B5C;\n",
              "      box-shadow: 0px 1px 3px 1px rgba(0, 0, 0, 0.15);\n",
              "      filter: drop-shadow(0px 1px 2px rgba(0, 0, 0, 0.3));\n",
              "      fill: #FFFFFF;\n",
              "    }\n",
              "  </style>\n",
              "\n",
              "    <script>\n",
              "      const buttonEl =\n",
              "        document.querySelector('#df-27b972ad-7be6-4365-9192-8f017e5bc58e button.colab-df-convert');\n",
              "      buttonEl.style.display =\n",
              "        google.colab.kernel.accessAllowed ? 'block' : 'none';\n",
              "\n",
              "      async function convertToInteractive(key) {\n",
              "        const element = document.querySelector('#df-27b972ad-7be6-4365-9192-8f017e5bc58e');\n",
              "        const dataTable =\n",
              "          await google.colab.kernel.invokeFunction('convertToInteractive',\n",
              "                                                    [key], {});\n",
              "        if (!dataTable) return;\n",
              "\n",
              "        const docLinkHtml = 'Like what you see? Visit the ' +\n",
              "          '<a target=\"_blank\" href=https://colab.research.google.com/notebooks/data_table.ipynb>data table notebook</a>'\n",
              "          + ' to learn more about interactive tables.';\n",
              "        element.innerHTML = '';\n",
              "        dataTable['output_type'] = 'display_data';\n",
              "        await google.colab.output.renderOutput(dataTable, element);\n",
              "        const docLink = document.createElement('div');\n",
              "        docLink.innerHTML = docLinkHtml;\n",
              "        element.appendChild(docLink);\n",
              "      }\n",
              "    </script>\n",
              "  </div>\n",
              "\n",
              "\n",
              "<div id=\"df-a7718dbc-b793-4770-93b7-fc40483f6c78\">\n",
              "  <button class=\"colab-df-quickchart\" onclick=\"quickchart('df-a7718dbc-b793-4770-93b7-fc40483f6c78')\"\n",
              "            title=\"Suggest charts\"\n",
              "            style=\"display:none;\">\n",
              "\n",
              "<svg xmlns=\"http://www.w3.org/2000/svg\" height=\"24px\"viewBox=\"0 0 24 24\"\n",
              "     width=\"24px\">\n",
              "    <g>\n",
              "        <path d=\"M19 3H5c-1.1 0-2 .9-2 2v14c0 1.1.9 2 2 2h14c1.1 0 2-.9 2-2V5c0-1.1-.9-2-2-2zM9 17H7v-7h2v7zm4 0h-2V7h2v10zm4 0h-2v-4h2v4z\"/>\n",
              "    </g>\n",
              "</svg>\n",
              "  </button>\n",
              "\n",
              "<style>\n",
              "  .colab-df-quickchart {\n",
              "      --bg-color: #E8F0FE;\n",
              "      --fill-color: #1967D2;\n",
              "      --hover-bg-color: #E2EBFA;\n",
              "      --hover-fill-color: #174EA6;\n",
              "      --disabled-fill-color: #AAA;\n",
              "      --disabled-bg-color: #DDD;\n",
              "  }\n",
              "\n",
              "  [theme=dark] .colab-df-quickchart {\n",
              "      --bg-color: #3B4455;\n",
              "      --fill-color: #D2E3FC;\n",
              "      --hover-bg-color: #434B5C;\n",
              "      --hover-fill-color: #FFFFFF;\n",
              "      --disabled-bg-color: #3B4455;\n",
              "      --disabled-fill-color: #666;\n",
              "  }\n",
              "\n",
              "  .colab-df-quickchart {\n",
              "    background-color: var(--bg-color);\n",
              "    border: none;\n",
              "    border-radius: 50%;\n",
              "    cursor: pointer;\n",
              "    display: none;\n",
              "    fill: var(--fill-color);\n",
              "    height: 32px;\n",
              "    padding: 0;\n",
              "    width: 32px;\n",
              "  }\n",
              "\n",
              "  .colab-df-quickchart:hover {\n",
              "    background-color: var(--hover-bg-color);\n",
              "    box-shadow: 0 1px 2px rgba(60, 64, 67, 0.3), 0 1px 3px 1px rgba(60, 64, 67, 0.15);\n",
              "    fill: var(--button-hover-fill-color);\n",
              "  }\n",
              "\n",
              "  .colab-df-quickchart-complete:disabled,\n",
              "  .colab-df-quickchart-complete:disabled:hover {\n",
              "    background-color: var(--disabled-bg-color);\n",
              "    fill: var(--disabled-fill-color);\n",
              "    box-shadow: none;\n",
              "  }\n",
              "\n",
              "  .colab-df-spinner {\n",
              "    border: 2px solid var(--fill-color);\n",
              "    border-color: transparent;\n",
              "    border-bottom-color: var(--fill-color);\n",
              "    animation:\n",
              "      spin 1s steps(1) infinite;\n",
              "  }\n",
              "\n",
              "  @keyframes spin {\n",
              "    0% {\n",
              "      border-color: transparent;\n",
              "      border-bottom-color: var(--fill-color);\n",
              "      border-left-color: var(--fill-color);\n",
              "    }\n",
              "    20% {\n",
              "      border-color: transparent;\n",
              "      border-left-color: var(--fill-color);\n",
              "      border-top-color: var(--fill-color);\n",
              "    }\n",
              "    30% {\n",
              "      border-color: transparent;\n",
              "      border-left-color: var(--fill-color);\n",
              "      border-top-color: var(--fill-color);\n",
              "      border-right-color: var(--fill-color);\n",
              "    }\n",
              "    40% {\n",
              "      border-color: transparent;\n",
              "      border-right-color: var(--fill-color);\n",
              "      border-top-color: var(--fill-color);\n",
              "    }\n",
              "    60% {\n",
              "      border-color: transparent;\n",
              "      border-right-color: var(--fill-color);\n",
              "    }\n",
              "    80% {\n",
              "      border-color: transparent;\n",
              "      border-right-color: var(--fill-color);\n",
              "      border-bottom-color: var(--fill-color);\n",
              "    }\n",
              "    90% {\n",
              "      border-color: transparent;\n",
              "      border-bottom-color: var(--fill-color);\n",
              "    }\n",
              "  }\n",
              "</style>\n",
              "\n",
              "  <script>\n",
              "    async function quickchart(key) {\n",
              "      const quickchartButtonEl =\n",
              "        document.querySelector('#' + key + ' button');\n",
              "      quickchartButtonEl.disabled = true;  // To prevent multiple clicks.\n",
              "      quickchartButtonEl.classList.add('colab-df-spinner');\n",
              "      try {\n",
              "        const charts = await google.colab.kernel.invokeFunction(\n",
              "            'suggestCharts', [key], {});\n",
              "      } catch (error) {\n",
              "        console.error('Error during call to suggestCharts:', error);\n",
              "      }\n",
              "      quickchartButtonEl.classList.remove('colab-df-spinner');\n",
              "      quickchartButtonEl.classList.add('colab-df-quickchart-complete');\n",
              "    }\n",
              "    (() => {\n",
              "      let quickchartButtonEl =\n",
              "        document.querySelector('#df-a7718dbc-b793-4770-93b7-fc40483f6c78 button');\n",
              "      quickchartButtonEl.style.display =\n",
              "        google.colab.kernel.accessAllowed ? 'block' : 'none';\n",
              "    })();\n",
              "  </script>\n",
              "</div>\n",
              "    </div>\n",
              "  </div>\n"
            ],
            "application/vnd.google.colaboratory.intrinsic+json": {
              "type": "dataframe",
              "variable_name": "data",
              "summary": "{\n  \"name\": \"data\",\n  \"rows\": 14899,\n  \"fields\": [\n    {\n      \"column\": \"Tweet\",\n      \"properties\": {\n        \"dtype\": \"string\",\n        \"num_unique_values\": 14682,\n        \"samples\": [\n          \"@____onyx Happy Birthday beautiful I love you & hope you enjoy your DAY\",\n          \"RT realDonaldTrump: Great to see that Dr. Kelli Ward is running against Flake Jeff Flake, who is WEAK on borders, crime and a non-factor in\",\n          \"Hood bitches gone have my heart for Eva\"\n        ],\n        \"semantic_type\": \"\",\n        \"description\": \"\"\n      }\n    },\n    {\n      \"column\": \"following\",\n      \"properties\": {\n        \"dtype\": \"number\",\n        \"std\": 31896.52512603283,\n        \"min\": 0.0,\n        \"max\": 1600000.0,\n        \"num_unique_values\": 4574,\n        \"samples\": [\n          13373.0,\n          23833.0,\n          2219.0\n        ],\n        \"semantic_type\": \"\",\n        \"description\": \"\"\n      }\n    },\n    {\n      \"column\": \"followers\",\n      \"properties\": {\n        \"dtype\": \"number\",\n        \"std\": 3890452.5021719495,\n        \"min\": 0.0,\n        \"max\": 105000000.0,\n        \"num_unique_values\": 5483,\n        \"samples\": [\n          14806.0,\n          30.0,\n          79.0\n        ],\n        \"semantic_type\": \"\",\n        \"description\": \"\"\n      }\n    },\n    {\n      \"column\": \"actions\",\n      \"properties\": {\n        \"dtype\": \"number\",\n        \"std\": 15803.881463170412,\n        \"min\": 0.0,\n        \"max\": 165599.0,\n        \"num_unique_values\": 6063,\n        \"samples\": [\n          24738.0,\n          26.0,\n          42728.0\n        ],\n        \"semantic_type\": \"\",\n        \"description\": \"\"\n      }\n    },\n    {\n      \"column\": \"is_retweet\",\n      \"properties\": {\n        \"dtype\": \"number\",\n        \"std\": 0.4328915082486682,\n        \"min\": 0.0,\n        \"max\": 1.0,\n        \"num_unique_values\": 2,\n        \"samples\": [\n          1.0,\n          0.0\n        ],\n        \"semantic_type\": \"\",\n        \"description\": \"\"\n      }\n    },\n    {\n      \"column\": \"location\",\n      \"properties\": {\n        \"dtype\": \"category\",\n        \"num_unique_values\": 3437,\n        \"samples\": [\n          \"Trillsammy.com\",\n          \"Santa Clara\"\n        ],\n        \"semantic_type\": \"\",\n        \"description\": \"\"\n      }\n    },\n    {\n      \"column\": \"Type\",\n      \"properties\": {\n        \"dtype\": \"category\",\n        \"num_unique_values\": 3,\n        \"samples\": [\n          \"Quality\",\n          \"Spam\"\n        ],\n        \"semantic_type\": \"\",\n        \"description\": \"\"\n      }\n    }\n  ]\n}"
            }
          },
          "metadata": {},
          "execution_count": 2
        }
      ],
      "source": [
        "data = pd.read_csv('train.csv')\n",
        "data.drop('Unnamed: 7', axis=1, inplace=True)\n",
        "data.head()"
      ]
    },
    {
      "cell_type": "markdown",
      "id": "0b1d3b50-153b-4c68-a69f-c3ad2cc5ee41",
      "metadata": {
        "id": "0b1d3b50-153b-4c68-a69f-c3ad2cc5ee41"
      },
      "source": [
        "Почистим датасет"
      ]
    },
    {
      "cell_type": "code",
      "execution_count": null,
      "id": "e86ad3a8-abb6-4743-a8aa-73f873d8b672",
      "metadata": {
        "colab": {
          "base_uri": "https://localhost:8080/"
        },
        "id": "e86ad3a8-abb6-4743-a8aa-73f873d8b672",
        "outputId": "f20fe351-3517-44f9-e2e2-e627e451561e"
      },
      "outputs": [
        {
          "output_type": "stream",
          "name": "stdout",
          "text": [
            "<class 'pandas.core.frame.DataFrame'>\n",
            "RangeIndex: 14899 entries, 0 to 14898\n",
            "Data columns (total 7 columns):\n",
            " #   Column      Non-Null Count  Dtype  \n",
            "---  ------      --------------  -----  \n",
            " 0   Tweet       14899 non-null  object \n",
            " 1   following   14741 non-null  float64\n",
            " 2   followers   14882 non-null  float64\n",
            " 3   actions     11462 non-null  float64\n",
            " 4   is_retweet  14898 non-null  float64\n",
            " 5   location    12888 non-null  object \n",
            " 6   Type        14899 non-null  object \n",
            "dtypes: float64(4), object(3)\n",
            "memory usage: 814.9+ KB\n"
          ]
        }
      ],
      "source": [
        "data.info()"
      ]
    },
    {
      "cell_type": "code",
      "execution_count": null,
      "id": "e5737d15-509f-40d7-823d-45ffacdda788",
      "metadata": {
        "colab": {
          "base_uri": "https://localhost:8080/"
        },
        "id": "e5737d15-509f-40d7-823d-45ffacdda788",
        "outputId": "549cf7ad-7316-46d2-f1dc-0f9e731b7046"
      },
      "outputs": [
        {
          "output_type": "execute_result",
          "data": {
            "text/plain": [
              "array(['Quality', 'Spam', 'South Dakota'], dtype=object)"
            ]
          },
          "metadata": {},
          "execution_count": 4
        }
      ],
      "source": [
        "data.Type.unique()"
      ]
    },
    {
      "cell_type": "code",
      "execution_count": null,
      "id": "c99d550c-0bc1-471b-a08d-4d35e1b4002e",
      "metadata": {
        "tags": [],
        "id": "c99d550c-0bc1-471b-a08d-4d35e1b4002e"
      },
      "outputs": [],
      "source": [
        "data = data[data.Type != \"South Dakota\"]"
      ]
    },
    {
      "cell_type": "code",
      "execution_count": null,
      "id": "7ab2eee7-7243-4faf-9f0a-8ac4b1667ca1",
      "metadata": {
        "tags": [],
        "id": "7ab2eee7-7243-4faf-9f0a-8ac4b1667ca1"
      },
      "outputs": [],
      "source": [
        "data['Type'] = data['Type'].apply(lambda x: 0 if x == 'Quality' else 1)"
      ]
    },
    {
      "cell_type": "code",
      "execution_count": null,
      "id": "5ebd0b14-775a-4cfc-bbd2-5c1154cbf1bb",
      "metadata": {
        "tags": [],
        "id": "5ebd0b14-775a-4cfc-bbd2-5c1154cbf1bb"
      },
      "outputs": [],
      "source": [
        "data.drop('location', axis=1, inplace=True)"
      ]
    },
    {
      "cell_type": "code",
      "source": [
        "from google.colab import drive\n",
        "drive.mount('/content/drive')"
      ],
      "metadata": {
        "id": "9fybgonK6kwZ"
      },
      "id": "9fybgonK6kwZ",
      "execution_count": null,
      "outputs": []
    },
    {
      "cell_type": "code",
      "execution_count": null,
      "id": "196c0d8d-dbda-45e3-850f-c9cbd78ad09e",
      "metadata": {
        "tags": [],
        "id": "196c0d8d-dbda-45e3-850f-c9cbd78ad09e"
      },
      "outputs": [],
      "source": [
        "y = data['Type']\n",
        "X = data.drop('Type', axis=1)"
      ]
    },
    {
      "cell_type": "code",
      "source": [],
      "metadata": {
        "id": "zNSJZoPT6vvu"
      },
      "id": "zNSJZoPT6vvu",
      "execution_count": null,
      "outputs": []
    },
    {
      "cell_type": "markdown",
      "id": "727447a1-2710-4580-a92f-9ac04c42f65a",
      "metadata": {
        "id": "727447a1-2710-4580-a92f-9ac04c42f65a"
      },
      "source": [
        "Давайте построим графики."
      ]
    },
    {
      "cell_type": "code",
      "execution_count": null,
      "id": "83d5b26e-b563-4b2e-bb7c-c15f99c89ef3",
      "metadata": {
        "colab": {
          "base_uri": "https://localhost:8080/",
          "height": 465
        },
        "id": "83d5b26e-b563-4b2e-bb7c-c15f99c89ef3",
        "outputId": "4925ea92-c283-415e-9b8e-67fd38bf1fbe"
      },
      "outputs": [
        {
          "output_type": "display_data",
          "data": {
            "text/plain": [
              "<Figure size 640x480 with 4 Axes>"
            ],
            "image/png": "[encoded data removed]"
          },
          "metadata": {}
        }
      ],
      "source": [
        "fig, axes = plt.subplots(nrows=2, ncols=2)\n",
        "for ax, feat in zip(axes.flat, X.select_dtypes(include=np.number).columns):\n",
        "    sns.kdeplot(X[feat], ax=ax)\n",
        "plt.show()"
      ]
    },
    {
      "cell_type": "markdown",
      "id": "e5be9c77-b741-45ab-9e17-a7561fbaffe5",
      "metadata": {
        "id": "e5be9c77-b741-45ab-9e17-a7561fbaffe5"
      },
      "source": [
        "Видим, что а) ни один из признаков не имеет нормального распределения б) для небинарных признаков самое частое значение - 0. Скорее всего, наиболее важную информацию несут сами твиты (мы намеренно не будем удалять ссылки и хештеги, потому что они, скорее всего, вообще сделают самый важный вклад)."
      ]
    },
    {
      "cell_type": "markdown",
      "id": "7cc90414-bd86-4011-bc92-a40c4aa3dad4",
      "metadata": {
        "id": "7cc90414-bd86-4011-bc92-a40c4aa3dad4"
      },
      "source": [
        "Теперь нам необходимо обработать наши признаки. Часть из них - текстовые, и их нужно обработать отдельно."
      ]
    },
    {
      "cell_type": "code",
      "execution_count": null,
      "id": "50c7c1bf-baaf-4b68-b0a0-f65c114d16d7",
      "metadata": {
        "tags": [],
        "id": "50c7c1bf-baaf-4b68-b0a0-f65c114d16d7"
      },
      "outputs": [],
      "source": [
        "def feature_engineering(choice_transformer, choice_ngrams):\n",
        "    # числовые характеристики нормализуем: imputer обрабатывает наны, scaler масштабирует\n",
        "    numeric_features = ['following', 'followers', 'actions', 'is_retweet']\n",
        "    numeric_transformer = Pipeline(\n",
        "        steps=[(\"imputer\", SimpleImputer(strategy=\"median\")), (\"scaler\", StandardScaler())]\n",
        "    )\n",
        "\n",
        "    # текстовые характеристики обрабатываем: либо tf-idf, либо мешок слов\n",
        "    text_features = 'Tweet'\n",
        "    if choice_transformer == 'tfidf':\n",
        "        text_transformer = TfidfVectorizer(ngram_range=choice_ngrams, tokenizer=word_tokenize, stop_words='english')\n",
        "    else:\n",
        "        text_transformer = CountVectorizer(ngram_range=choice_ngrams, tokenizer=word_tokenize, stop_words='english')\n",
        "\n",
        "    preprocessor = ColumnTransformer(\n",
        "        transformers=[\n",
        "            (\"num\", numeric_transformer, numeric_features),\n",
        "            (\"txt\", text_transformer, text_features),\n",
        "        ]\n",
        "    )\n",
        "    return preprocessor"
      ]
    },
    {
      "cell_type": "markdown",
      "id": "423b37cf-f615-46da-8393-9240d979870f",
      "metadata": {
        "id": "423b37cf-f615-46da-8393-9240d979870f"
      },
      "source": [
        "Обучим модели."
      ]
    },
    {
      "cell_type": "code",
      "execution_count": null,
      "id": "3a077f4c-e9df-497d-b669-4f6cff558f1c",
      "metadata": {
        "tags": [],
        "colab": {
          "base_uri": "https://localhost:8080/",
          "height": 206
        },
        "id": "3a077f4c-e9df-497d-b669-4f6cff558f1c",
        "outputId": "970f43be-9c5f-48b2-b291-f4e1012ee131"
      },
      "outputs": [
        {
          "output_type": "execute_result",
          "data": {
            "text/plain": [
              "                                               Tweet  following  followers  \\\n",
              "0  Cops shoot blacks almost everyday, and there a...     5509.0     5977.0   \n",
              "1  #HAPPYTAEYANGDAY  Oppa,happy birthday to you, ...        0.0        0.0   \n",
              "2  RT @HoneyBadger10: Panthers in the super bowl....      471.0      229.0   \n",
              "3  Sorry my Twitter keeps posting my retweets a m...        0.0    79800.0   \n",
              "4  Heart attack causes and symptoms are different...      902.0     5797.0   \n",
              "\n",
              "   actions  is_retweet         location  \n",
              "0   8062.0           1         ですpacito  \n",
              "1      NaN           0              NaN  \n",
              "2    747.0           0  B'klyn, NYC, LA  \n",
              "3     48.0           0              NaN  \n",
              "4   4270.0           0          Chicago  "
            ],
            "text/html": [
              "\n",
              "  <div id=\"df-8d557bfc-03f3-40fa-960d-0d26451d3bcd\" class=\"colab-df-container\">\n",
              "    <div>\n",
              "<style scoped>\n",
              "    .dataframe tbody tr th:only-of-type {\n",
              "        vertical-align: middle;\n",
              "    }\n",
              "\n",
              "    .dataframe tbody tr th {\n",
              "        vertical-align: top;\n",
              "    }\n",
              "\n",
              "    .dataframe thead th {\n",
              "        text-align: right;\n",
              "    }\n",
              "</style>\n",
              "<table border=\"1\" class=\"dataframe\">\n",
              "  <thead>\n",
              "    <tr style=\"text-align: right;\">\n",
              "      <th></th>\n",
              "      <th>Tweet</th>\n",
              "      <th>following</th>\n",
              "      <th>followers</th>\n",
              "      <th>actions</th>\n",
              "      <th>is_retweet</th>\n",
              "      <th>location</th>\n",
              "    </tr>\n",
              "  </thead>\n",
              "  <tbody>\n",
              "    <tr>\n",
              "      <th>0</th>\n",
              "      <td>Cops shoot blacks almost everyday, and there a...</td>\n",
              "      <td>5509.0</td>\n",
              "      <td>5977.0</td>\n",
              "      <td>8062.0</td>\n",
              "      <td>1</td>\n",
              "      <td>ですpacito</td>\n",
              "    </tr>\n",
              "    <tr>\n",
              "      <th>1</th>\n",
              "      <td>#HAPPYTAEYANGDAY  Oppa,happy birthday to you, ...</td>\n",
              "      <td>0.0</td>\n",
              "      <td>0.0</td>\n",
              "      <td>NaN</td>\n",
              "      <td>0</td>\n",
              "      <td>NaN</td>\n",
              "    </tr>\n",
              "    <tr>\n",
              "      <th>2</th>\n",
              "      <td>RT @HoneyBadger10: Panthers in the super bowl....</td>\n",
              "      <td>471.0</td>\n",
              "      <td>229.0</td>\n",
              "      <td>747.0</td>\n",
              "      <td>0</td>\n",
              "      <td>B'klyn, NYC, LA</td>\n",
              "    </tr>\n",
              "    <tr>\n",
              "      <th>3</th>\n",
              "      <td>Sorry my Twitter keeps posting my retweets a m...</td>\n",
              "      <td>0.0</td>\n",
              "      <td>79800.0</td>\n",
              "      <td>48.0</td>\n",
              "      <td>0</td>\n",
              "      <td>NaN</td>\n",
              "    </tr>\n",
              "    <tr>\n",
              "      <th>4</th>\n",
              "      <td>Heart attack causes and symptoms are different...</td>\n",
              "      <td>902.0</td>\n",
              "      <td>5797.0</td>\n",
              "      <td>4270.0</td>\n",
              "      <td>0</td>\n",
              "      <td>Chicago</td>\n",
              "    </tr>\n",
              "  </tbody>\n",
              "</table>\n",
              "</div>\n",
              "    <div class=\"colab-df-buttons\">\n",
              "\n",
              "  <div class=\"colab-df-container\">\n",
              "    <button class=\"colab-df-convert\" onclick=\"convertToInteractive('df-8d557bfc-03f3-40fa-960d-0d26451d3bcd')\"\n",
              "            title=\"Convert this dataframe to an interactive table.\"\n",
              "            style=\"display:none;\">\n",
              "\n",
              "  <svg xmlns=\"http://www.w3.org/2000/svg\" height=\"24px\" viewBox=\"0 -960 960 960\">\n",
              "    <path d=\"M120-120v-720h720v720H120Zm60-500h600v-160H180v160Zm220 220h160v-160H400v160Zm0 220h160v-160H400v160ZM180-400h160v-160H180v160Zm440 0h160v-160H620v160ZM180-180h160v-160H180v160Zm440 0h160v-160H620v160Z\"/>\n",
              "  </svg>\n",
              "    </button>\n",
              "\n",
              "  <style>\n",
              "    .colab-df-container {\n",
              "      display:flex;\n",
              "      gap: 12px;\n",
              "    }\n",
              "\n",
              "    .colab-df-convert {\n",
              "      background-color: #E8F0FE;\n",
              "      border: none;\n",
              "      border-radius: 50%;\n",
              "      cursor: pointer;\n",
              "      display: none;\n",
              "      fill: #1967D2;\n",
              "      height: 32px;\n",
              "      padding: 0 0 0 0;\n",
              "      width: 32px;\n",
              "    }\n",
              "\n",
              "    .colab-df-convert:hover {\n",
              "      background-color: #E2EBFA;\n",
              "      box-shadow: 0px 1px 2px rgba(60, 64, 67, 0.3), 0px 1px 3px 1px rgba(60, 64, 67, 0.15);\n",
              "      fill: #174EA6;\n",
              "    }\n",
              "\n",
              "    .colab-df-buttons div {\n",
              "      margin-bottom: 4px;\n",
              "    }\n",
              "\n",
              "    [theme=dark] .colab-df-convert {\n",
              "      background-color: #3B4455;\n",
              "      fill: #D2E3FC;\n",
              "    }\n",
              "\n",
              "    [theme=dark] .colab-df-convert:hover {\n",
              "      background-color: #434B5C;\n",
              "      box-shadow: 0px 1px 3px 1px rgba(0, 0, 0, 0.15);\n",
              "      filter: drop-shadow(0px 1px 2px rgba(0, 0, 0, 0.3));\n",
              "      fill: #FFFFFF;\n",
              "    }\n",
              "  </style>\n",
              "\n",
              "    <script>\n",
              "      const buttonEl =\n",
              "        document.querySelector('#df-8d557bfc-03f3-40fa-960d-0d26451d3bcd button.colab-df-convert');\n",
              "      buttonEl.style.display =\n",
              "        google.colab.kernel.accessAllowed ? 'block' : 'none';\n",
              "\n",
              "      async function convertToInteractive(key) {\n",
              "        const element = document.querySelector('#df-8d557bfc-03f3-40fa-960d-0d26451d3bcd');\n",
              "        const dataTable =\n",
              "          await google.colab.kernel.invokeFunction('convertToInteractive',\n",
              "                                                    [key], {});\n",
              "        if (!dataTable) return;\n",
              "\n",
              "        const docLinkHtml = 'Like what you see? Visit the ' +\n",
              "          '<a target=\"_blank\" href=https://colab.research.google.com/notebooks/data_table.ipynb>data table notebook</a>'\n",
              "          + ' to learn more about interactive tables.';\n",
              "        element.innerHTML = '';\n",
              "        dataTable['output_type'] = 'display_data';\n",
              "        await google.colab.output.renderOutput(dataTable, element);\n",
              "        const docLink = document.createElement('div');\n",
              "        docLink.innerHTML = docLinkHtml;\n",
              "        element.appendChild(docLink);\n",
              "      }\n",
              "    </script>\n",
              "  </div>\n",
              "\n",
              "\n",
              "<div id=\"df-cc414cb6-1dba-4c3b-be96-d468d85053b3\">\n",
              "  <button class=\"colab-df-quickchart\" onclick=\"quickchart('df-cc414cb6-1dba-4c3b-be96-d468d85053b3')\"\n",
              "            title=\"Suggest charts\"\n",
              "            style=\"display:none;\">\n",
              "\n",
              "<svg xmlns=\"http://www.w3.org/2000/svg\" height=\"24px\"viewBox=\"0 0 24 24\"\n",
              "     width=\"24px\">\n",
              "    <g>\n",
              "        <path d=\"M19 3H5c-1.1 0-2 .9-2 2v14c0 1.1.9 2 2 2h14c1.1 0 2-.9 2-2V5c0-1.1-.9-2-2-2zM9 17H7v-7h2v7zm4 0h-2V7h2v10zm4 0h-2v-4h2v4z\"/>\n",
              "    </g>\n",
              "</svg>\n",
              "  </button>\n",
              "\n",
              "<style>\n",
              "  .colab-df-quickchart {\n",
              "      --bg-color: #E8F0FE;\n",
              "      --fill-color: #1967D2;\n",
              "      --hover-bg-color: #E2EBFA;\n",
              "      --hover-fill-color: #174EA6;\n",
              "      --disabled-fill-color: #AAA;\n",
              "      --disabled-bg-color: #DDD;\n",
              "  }\n",
              "\n",
              "  [theme=dark] .colab-df-quickchart {\n",
              "      --bg-color: #3B4455;\n",
              "      --fill-color: #D2E3FC;\n",
              "      --hover-bg-color: #434B5C;\n",
              "      --hover-fill-color: #FFFFFF;\n",
              "      --disabled-bg-color: #3B4455;\n",
              "      --disabled-fill-color: #666;\n",
              "  }\n",
              "\n",
              "  .colab-df-quickchart {\n",
              "    background-color: var(--bg-color);\n",
              "    border: none;\n",
              "    border-radius: 50%;\n",
              "    cursor: pointer;\n",
              "    display: none;\n",
              "    fill: var(--fill-color);\n",
              "    height: 32px;\n",
              "    padding: 0;\n",
              "    width: 32px;\n",
              "  }\n",
              "\n",
              "  .colab-df-quickchart:hover {\n",
              "    background-color: var(--hover-bg-color);\n",
              "    box-shadow: 0 1px 2px rgba(60, 64, 67, 0.3), 0 1px 3px 1px rgba(60, 64, 67, 0.15);\n",
              "    fill: var(--button-hover-fill-color);\n",
              "  }\n",
              "\n",
              "  .colab-df-quickchart-complete:disabled,\n",
              "  .colab-df-quickchart-complete:disabled:hover {\n",
              "    background-color: var(--disabled-bg-color);\n",
              "    fill: var(--disabled-fill-color);\n",
              "    box-shadow: none;\n",
              "  }\n",
              "\n",
              "  .colab-df-spinner {\n",
              "    border: 2px solid var(--fill-color);\n",
              "    border-color: transparent;\n",
              "    border-bottom-color: var(--fill-color);\n",
              "    animation:\n",
              "      spin 1s steps(1) infinite;\n",
              "  }\n",
              "\n",
              "  @keyframes spin {\n",
              "    0% {\n",
              "      border-color: transparent;\n",
              "      border-bottom-color: var(--fill-color);\n",
              "      border-left-color: var(--fill-color);\n",
              "    }\n",
              "    20% {\n",
              "      border-color: transparent;\n",
              "      border-left-color: var(--fill-color);\n",
              "      border-top-color: var(--fill-color);\n",
              "    }\n",
              "    30% {\n",
              "      border-color: transparent;\n",
              "      border-left-color: var(--fill-color);\n",
              "      border-top-color: var(--fill-color);\n",
              "      border-right-color: var(--fill-color);\n",
              "    }\n",
              "    40% {\n",
              "      border-color: transparent;\n",
              "      border-right-color: var(--fill-color);\n",
              "      border-top-color: var(--fill-color);\n",
              "    }\n",
              "    60% {\n",
              "      border-color: transparent;\n",
              "      border-right-color: var(--fill-color);\n",
              "    }\n",
              "    80% {\n",
              "      border-color: transparent;\n",
              "      border-right-color: var(--fill-color);\n",
              "      border-bottom-color: var(--fill-color);\n",
              "    }\n",
              "    90% {\n",
              "      border-color: transparent;\n",
              "      border-bottom-color: var(--fill-color);\n",
              "    }\n",
              "  }\n",
              "</style>\n",
              "\n",
              "  <script>\n",
              "    async function quickchart(key) {\n",
              "      const quickchartButtonEl =\n",
              "        document.querySelector('#' + key + ' button');\n",
              "      quickchartButtonEl.disabled = true;  // To prevent multiple clicks.\n",
              "      quickchartButtonEl.classList.add('colab-df-spinner');\n",
              "      try {\n",
              "        const charts = await google.colab.kernel.invokeFunction(\n",
              "            'suggestCharts', [key], {});\n",
              "      } catch (error) {\n",
              "        console.error('Error during call to suggestCharts:', error);\n",
              "      }\n",
              "      quickchartButtonEl.classList.remove('colab-df-spinner');\n",
              "      quickchartButtonEl.classList.add('colab-df-quickchart-complete');\n",
              "    }\n",
              "    (() => {\n",
              "      let quickchartButtonEl =\n",
              "        document.querySelector('#df-cc414cb6-1dba-4c3b-be96-d468d85053b3 button');\n",
              "      quickchartButtonEl.style.display =\n",
              "        google.colab.kernel.accessAllowed ? 'block' : 'none';\n",
              "    })();\n",
              "  </script>\n",
              "</div>\n",
              "    </div>\n",
              "  </div>\n"
            ],
            "application/vnd.google.colaboratory.intrinsic+json": {
              "type": "dataframe",
              "variable_name": "test",
              "summary": "{\n  \"name\": \"test\",\n  \"rows\": 785,\n  \"fields\": [\n    {\n      \"column\": \"Tweet\",\n      \"properties\": {\n        \"dtype\": \"string\",\n        \"num_unique_values\": 785,\n        \"samples\": [\n          \"Just remembered my dream that I was back in Malaysia.\",\n          \"24. we didn't choose the thug life, the thug life chose uspic.twitter.com/h3sqT2SWv7\",\n          \", just got off the bridge .\"\n        ],\n        \"semantic_type\": \"\",\n        \"description\": \"\"\n      }\n    },\n    {\n      \"column\": \"following\",\n      \"properties\": {\n        \"dtype\": \"number\",\n        \"std\": 16734.50918668322,\n        \"min\": 0.0,\n        \"max\": 378000.0,\n        \"num_unique_values\": 384,\n        \"samples\": [\n          58.0,\n          9031.0,\n          11954.0\n        ],\n        \"semantic_type\": \"\",\n        \"description\": \"\"\n      }\n    },\n    {\n      \"column\": \"followers\",\n      \"properties\": {\n        \"dtype\": \"number\",\n        \"std\": 2387838.2544799983,\n        \"min\": 0.0,\n        \"max\": 59200000.0,\n        \"num_unique_values\": 466,\n        \"samples\": [\n          60592.0,\n          278000.0,\n          29600.0\n        ],\n        \"semantic_type\": \"\",\n        \"description\": \"\"\n      }\n    },\n    {\n      \"column\": \"actions\",\n      \"properties\": {\n        \"dtype\": \"number\",\n        \"std\": 16934.969087432248,\n        \"min\": 0.0,\n        \"max\": 165098.0,\n        \"num_unique_values\": 458,\n        \"samples\": [\n          29913.0,\n          2511.0,\n          1046.0\n        ],\n        \"semantic_type\": \"\",\n        \"description\": \"\"\n      }\n    },\n    {\n      \"column\": \"is_retweet\",\n      \"properties\": {\n        \"dtype\": \"number\",\n        \"std\": 0,\n        \"min\": 0,\n        \"max\": 1,\n        \"num_unique_values\": 2,\n        \"samples\": [\n          0,\n          1\n        ],\n        \"semantic_type\": \"\",\n        \"description\": \"\"\n      }\n    },\n    {\n      \"column\": \"location\",\n      \"properties\": {\n        \"dtype\": \"category\",\n        \"num_unique_values\": 258,\n        \"samples\": [\n          \"Chapel Hill, NC\",\n          \"rm 201\"\n        ],\n        \"semantic_type\": \"\",\n        \"description\": \"\"\n      }\n    }\n  ]\n}"
            }
          },
          "metadata": {},
          "execution_count": 11
        }
      ],
      "source": [
        "test = pd.read_csv('test.csv')\n",
        "test.drop('Id', axis=1, inplace=True)\n",
        "test.head()"
      ]
    },
    {
      "cell_type": "code",
      "execution_count": null,
      "id": "d6c173ff-55fd-4793-9296-7b04b00b3191",
      "metadata": {
        "tags": [],
        "id": "d6c173ff-55fd-4793-9296-7b04b00b3191"
      },
      "outputs": [],
      "source": [
        "def modelfit(model):\n",
        "    model.fit(Xtrain, ytrain)\n",
        "\n",
        "    ypredtest = model.predict(Xtest)\n",
        "    ypredtrain = model.predict(Xtrain)\n",
        "\n",
        "    print(accuracy_score(ytest, ypredtest), accuracy_score(ytrain, ypredtrain))"
      ]
    },
    {
      "cell_type": "code",
      "execution_count": null,
      "id": "8afc7d71-0164-4cb4-b116-90c5adcdf6b8",
      "metadata": {
        "tags": [],
        "id": "8afc7d71-0164-4cb4-b116-90c5adcdf6b8"
      },
      "outputs": [],
      "source": [
        "Xtrain, Xtest, ytrain, ytest = train_test_split(X, y, test_size=0.2)"
      ]
    },
    {
      "cell_type": "markdown",
      "id": "e6bf2a88-6878-4100-aca6-f83b57c4b460",
      "metadata": {
        "id": "e6bf2a88-6878-4100-aca6-f83b57c4b460"
      },
      "source": [
        "TF-IDF unigrams"
      ]
    },
    {
      "cell_type": "code",
      "execution_count": null,
      "id": "068df0f5-4aad-4366-b05a-ee18669b6f08",
      "metadata": {
        "tags": [],
        "id": "068df0f5-4aad-4366-b05a-ee18669b6f08"
      },
      "outputs": [],
      "source": [
        "preprocessor = feature_engineering('tfidf', (1, 1))\n",
        "\n",
        "clfLR = Pipeline(\n",
        "    steps=[(\"preprocessor\", preprocessor), (\"classifier\", LogisticRegression())]\n",
        ")\n",
        "\n",
        "clfSVC = Pipeline(\n",
        "    steps=[(\"preprocessor\", preprocessor), (\"classifier\", SVC())]\n",
        ")"
      ]
    },
    {
      "cell_type": "code",
      "source": [
        "import nltk\n",
        "nltk.download('punkt')"
      ],
      "metadata": {
        "colab": {
          "base_uri": "https://localhost:8080/"
        },
        "id": "2xI5mWoioogb",
        "outputId": "34c0a71c-6308-4718-bfe1-4d5e1d8d5a44"
      },
      "id": "2xI5mWoioogb",
      "execution_count": null,
      "outputs": [
        {
          "output_type": "stream",
          "name": "stderr",
          "text": [
            "[nltk_data] Downloading package punkt to /root/nltk_data...\n",
            "[nltk_data]   Unzipping tokenizers/punkt.zip.\n"
          ]
        },
        {
          "output_type": "execute_result",
          "data": {
            "text/plain": [
              "True"
            ]
          },
          "metadata": {},
          "execution_count": 17
        }
      ]
    },
    {
      "cell_type": "code",
      "execution_count": null,
      "id": "8b81995c-6b6c-47f4-afed-5971ddd515f7",
      "metadata": {
        "colab": {
          "base_uri": "https://localhost:8080/"
        },
        "id": "8b81995c-6b6c-47f4-afed-5971ddd515f7",
        "outputId": "e8644ac7-4b28-4a35-f8ea-913168bb4c09"
      },
      "outputs": [
        {
          "output_type": "stream",
          "name": "stderr",
          "text": [
            "/usr/local/lib/python3.10/dist-packages/sklearn/feature_extraction/text.py:528: UserWarning: The parameter 'token_pattern' will not be used since 'tokenizer' is not None'\n",
            "  warnings.warn(\n"
          ]
        },
        {
          "output_type": "stream",
          "name": "stdout",
          "text": [
            "0.9268456375838926 0.9579592179239742\n"
          ]
        },
        {
          "output_type": "stream",
          "name": "stderr",
          "text": [
            "/usr/local/lib/python3.10/dist-packages/sklearn/feature_extraction/text.py:528: UserWarning: The parameter 'token_pattern' will not be used since 'tokenizer' is not None'\n",
            "  warnings.warn(\n"
          ]
        },
        {
          "output_type": "stream",
          "name": "stdout",
          "text": [
            "0.9355704697986578 0.9652597130150206\n"
          ]
        }
      ],
      "source": [
        "modelfit(clfLR)\n",
        "modelfit(clfSVC)"
      ]
    },
    {
      "cell_type": "markdown",
      "id": "aa4faad9-aa15-40c4-909a-03427bed66b7",
      "metadata": {
        "id": "aa4faad9-aa15-40c4-909a-03427bed66b7"
      },
      "source": [
        "TF-IDF bigrams"
      ]
    },
    {
      "cell_type": "code",
      "execution_count": null,
      "id": "78ea26a0-c231-4d3f-8ec3-cc539696a2c3",
      "metadata": {
        "id": "78ea26a0-c231-4d3f-8ec3-cc539696a2c3"
      },
      "outputs": [],
      "source": [
        "preprocessor = feature_engineering('tfidf', (2, 2))\n",
        "\n",
        "clfLR = Pipeline(\n",
        "    steps=[(\"preprocessor\", preprocessor), (\"classifier\", LogisticRegression())]\n",
        ")\n",
        "\n",
        "clfSVC = Pipeline(\n",
        "    steps=[(\"preprocessor\", preprocessor), (\"classifier\", SVC())]\n",
        ")"
      ]
    },
    {
      "cell_type": "code",
      "execution_count": null,
      "id": "fe658882-94c8-4c6a-83b9-8bc4b4c83747",
      "metadata": {
        "colab": {
          "base_uri": "https://localhost:8080/"
        },
        "id": "fe658882-94c8-4c6a-83b9-8bc4b4c83747",
        "outputId": "e82b464d-b3c7-4bc5-db90-dba9e0a65cc6"
      },
      "outputs": [
        {
          "output_type": "stream",
          "name": "stderr",
          "text": [
            "/usr/local/lib/python3.10/dist-packages/sklearn/feature_extraction/text.py:528: UserWarning: The parameter 'token_pattern' will not be used since 'tokenizer' is not None'\n",
            "  warnings.warn(\n"
          ]
        },
        {
          "output_type": "stream",
          "name": "stdout",
          "text": [
            "0.8781879194630873 0.9405051606948057\n"
          ]
        },
        {
          "output_type": "stream",
          "name": "stderr",
          "text": [
            "/usr/local/lib/python3.10/dist-packages/sklearn/feature_extraction/text.py:528: UserWarning: The parameter 'token_pattern' will not be used since 'tokenizer' is not None'\n",
            "  warnings.warn(\n"
          ]
        },
        {
          "output_type": "stream",
          "name": "stdout",
          "text": [
            "0.8832214765100671 0.9145758160610892\n"
          ]
        }
      ],
      "source": [
        "modelfit(clfLR)\n",
        "modelfit(clfSVC)"
      ]
    },
    {
      "cell_type": "markdown",
      "id": "570b527f-5a2c-42b8-9582-97bf1007d75a",
      "metadata": {
        "id": "570b527f-5a2c-42b8-9582-97bf1007d75a"
      },
      "source": [
        "BOW unigrams"
      ]
    },
    {
      "cell_type": "code",
      "execution_count": null,
      "id": "ae12084d-c5a6-44ea-9c5f-270241fbf806",
      "metadata": {
        "id": "ae12084d-c5a6-44ea-9c5f-270241fbf806"
      },
      "outputs": [],
      "source": [
        "preprocessor = feature_engineering('bow', (1, 1))\n",
        "\n",
        "clfLR = Pipeline(\n",
        "    steps=[(\"preprocessor\", preprocessor), (\"classifier\", LogisticRegression())]\n",
        ")\n",
        "\n",
        "clfSVC = Pipeline(\n",
        "    steps=[(\"preprocessor\", preprocessor), (\"classifier\", SVC())]\n",
        ")"
      ]
    },
    {
      "cell_type": "code",
      "execution_count": null,
      "id": "daa8b2e2-bd77-4e9a-8451-28b616bef0f2",
      "metadata": {
        "colab": {
          "base_uri": "https://localhost:8080/"
        },
        "id": "daa8b2e2-bd77-4e9a-8451-28b616bef0f2",
        "outputId": "c01b66cc-c4a1-4b8f-9150-f659a63f3ad0"
      },
      "outputs": [
        {
          "output_type": "stream",
          "name": "stderr",
          "text": [
            "/usr/local/lib/python3.10/dist-packages/sklearn/feature_extraction/text.py:528: UserWarning: The parameter 'token_pattern' will not be used since 'tokenizer' is not None'\n",
            "  warnings.warn(\n",
            "/usr/local/lib/python3.10/dist-packages/sklearn/linear_model/_logistic.py:458: ConvergenceWarning: lbfgs failed to converge (status=1):\n",
            "STOP: TOTAL NO. of ITERATIONS REACHED LIMIT.\n",
            "\n",
            "Increase the number of iterations (max_iter) or scale the data as shown in:\n",
            "    https://scikit-learn.org/stable/modules/preprocessing.html\n",
            "Please also refer to the documentation for alternative solver options:\n",
            "    https://scikit-learn.org/stable/modules/linear_model.html#logistic-regression\n",
            "  n_iter_i = _check_optimize_result(\n"
          ]
        },
        {
          "output_type": "stream",
          "name": "stdout",
          "text": [
            "0.9348993288590604 0.9873290257615172\n"
          ]
        },
        {
          "output_type": "stream",
          "name": "stderr",
          "text": [
            "/usr/local/lib/python3.10/dist-packages/sklearn/feature_extraction/text.py:528: UserWarning: The parameter 'token_pattern' will not be used since 'tokenizer' is not None'\n",
            "  warnings.warn(\n"
          ]
        },
        {
          "output_type": "stream",
          "name": "stdout",
          "text": [
            "0.9489932885906041 0.9773432910967526\n"
          ]
        }
      ],
      "source": [
        "modelfit(clfLR)\n",
        "modelfit(clfSVC)"
      ]
    },
    {
      "cell_type": "markdown",
      "id": "8efc25af-b0cc-498f-9196-59b2e79dd72a",
      "metadata": {
        "id": "8efc25af-b0cc-498f-9196-59b2e79dd72a"
      },
      "source": [
        "BOW bigrams"
      ]
    },
    {
      "cell_type": "code",
      "execution_count": null,
      "id": "ec833a10-2a43-4cf8-bf2b-fe349d66fa4d",
      "metadata": {
        "id": "ec833a10-2a43-4cf8-bf2b-fe349d66fa4d"
      },
      "outputs": [],
      "source": [
        "preprocessor = feature_engineering('bow', (2, 2))\n",
        "\n",
        "clfLR = Pipeline(\n",
        "    steps=[(\"preprocessor\", preprocessor), (\"classifier\", LogisticRegression())]\n",
        ")\n",
        "\n",
        "clfSVC = Pipeline(\n",
        "    steps=[(\"preprocessor\", preprocessor), (\"classifier\", SVC())]\n",
        ")"
      ]
    },
    {
      "cell_type": "code",
      "execution_count": null,
      "id": "7006367c-376f-407a-bbf2-00e9f94378c8",
      "metadata": {
        "colab": {
          "base_uri": "https://localhost:8080/"
        },
        "id": "7006367c-376f-407a-bbf2-00e9f94378c8",
        "outputId": "4c52e2d6-284f-4115-cb8d-60b08a109ab3"
      },
      "outputs": [
        {
          "output_type": "stream",
          "name": "stderr",
          "text": [
            "/usr/local/lib/python3.10/dist-packages/sklearn/feature_extraction/text.py:528: UserWarning: The parameter 'token_pattern' will not be used since 'tokenizer' is not None'\n",
            "  warnings.warn(\n"
          ]
        },
        {
          "output_type": "stream",
          "name": "stdout",
          "text": [
            "0.9204697986577182 0.9910212301753797\n"
          ]
        },
        {
          "output_type": "stream",
          "name": "stderr",
          "text": [
            "/usr/local/lib/python3.10/dist-packages/sklearn/feature_extraction/text.py:528: UserWarning: The parameter 'token_pattern' will not be used since 'tokenizer' is not None'\n",
            "  warnings.warn(\n"
          ]
        },
        {
          "output_type": "stream",
          "name": "stdout",
          "text": [
            "0.9124161073825503 0.976671981203323\n"
          ]
        }
      ],
      "source": [
        "modelfit(clfLR)\n",
        "modelfit(clfSVC)"
      ]
    },
    {
      "cell_type": "markdown",
      "id": "826e0ab7-9193-4441-afb5-b3ece33cc7ac",
      "metadata": {
        "id": "826e0ab7-9193-4441-afb5-b3ece33cc7ac"
      },
      "source": [
        "BOW Bagging"
      ]
    },
    {
      "cell_type": "code",
      "execution_count": null,
      "id": "6e033784-38c3-4e9b-b559-49d512fbf8c5",
      "metadata": {
        "id": "6e033784-38c3-4e9b-b559-49d512fbf8c5"
      },
      "outputs": [],
      "source": [
        "preprocessor = feature_engineering('bow', (1, 1))\n",
        "\n",
        "bagging = Pipeline(\n",
        "    steps=[(\"preprocessor\", preprocessor), (\"classifier\", BaggingClassifier())]\n",
        ")"
      ]
    },
    {
      "cell_type": "code",
      "execution_count": null,
      "id": "c0633012-cd4a-48cd-8e4b-f4724d702961",
      "metadata": {
        "colab": {
          "base_uri": "https://localhost:8080/"
        },
        "id": "c0633012-cd4a-48cd-8e4b-f4724d702961",
        "outputId": "dbdb3b07-becf-4fba-b044-4da327a4b445"
      },
      "outputs": [
        {
          "output_type": "stream",
          "name": "stderr",
          "text": [
            "/usr/local/lib/python3.10/dist-packages/sklearn/feature_extraction/text.py:528: UserWarning: The parameter 'token_pattern' will not be used since 'tokenizer' is not None'\n",
            "  warnings.warn(\n"
          ]
        },
        {
          "output_type": "stream",
          "name": "stdout",
          "text": [
            "0.9892617449664429 0.9979860703197113\n"
          ]
        }
      ],
      "source": [
        "modelfit(bagging)"
      ]
    },
    {
      "cell_type": "code",
      "execution_count": null,
      "id": "ef959f39-9e0b-4bfa-aa85-d366aba252f2",
      "metadata": {
        "id": "ef959f39-9e0b-4bfa-aa85-d366aba252f2"
      },
      "outputs": [],
      "source": [
        "preprocessor = feature_engineering('bow', (2, 2))\n",
        "\n",
        "bagging = Pipeline(\n",
        "    steps=[(\"preprocessor\", preprocessor), (\"classifier\", BaggingClassifier())]\n",
        ")"
      ]
    },
    {
      "cell_type": "code",
      "execution_count": null,
      "id": "8ffca4ee-beb6-4923-99c3-b9ea6d82b465",
      "metadata": {
        "colab": {
          "base_uri": "https://localhost:8080/"
        },
        "id": "8ffca4ee-beb6-4923-99c3-b9ea6d82b465",
        "outputId": "73337e3a-5374-4e04-c775-61292e7915bd"
      },
      "outputs": [
        {
          "output_type": "stream",
          "name": "stderr",
          "text": [
            "/usr/local/lib/python3.10/dist-packages/sklearn/feature_extraction/text.py:528: UserWarning: The parameter 'token_pattern' will not be used since 'tokenizer' is not None'\n",
            "  warnings.warn(\n"
          ]
        },
        {
          "output_type": "stream",
          "name": "stdout",
          "text": [
            "0.9922818791946308 0.9989930351598557\n"
          ]
        }
      ],
      "source": [
        "modelfit(bagging)"
      ]
    },
    {
      "cell_type": "markdown",
      "id": "c2758b30-a7ad-4098-89ee-6930be9f9092",
      "metadata": {
        "id": "c2758b30-a7ad-4098-89ee-6930be9f9092"
      },
      "source": [
        "Random Forest"
      ]
    },
    {
      "cell_type": "code",
      "execution_count": null,
      "id": "725da3f0-b789-4ea4-a923-7ca7f7d99c21",
      "metadata": {
        "colab": {
          "base_uri": "https://localhost:8080/"
        },
        "id": "725da3f0-b789-4ea4-a923-7ca7f7d99c21",
        "outputId": "3172bc20-29a1-4b04-b800-a8b938b11ce6"
      },
      "outputs": [
        {
          "output_type": "stream",
          "name": "stderr",
          "text": [
            "/usr/local/lib/python3.10/dist-packages/sklearn/feature_extraction/text.py:528: UserWarning: The parameter 'token_pattern' will not be used since 'tokenizer' is not None'\n",
            "  warnings.warn(\n"
          ]
        },
        {
          "output_type": "stream",
          "name": "stdout",
          "text": [
            "0.9942953020134229 1.0\n"
          ]
        }
      ],
      "source": [
        "preprocessor = feature_engineering('bow', (2, 2))\n",
        "\n",
        "clf = Pipeline(\n",
        "    steps=[(\"preprocessor\", preprocessor), (\"classifier\", RandomForestClassifier())]\n",
        ")\n",
        "\n",
        "modelfit(clf)"
      ]
    },
    {
      "cell_type": "markdown",
      "id": "9050542b-723b-4854-bbcc-4f3233f67725",
      "metadata": {
        "id": "9050542b-723b-4854-bbcc-4f3233f67725"
      },
      "source": [
        "Проверка только на твитах (чтобы посмотреть, что влияет сильнее всего)"
      ]
    },
    {
      "cell_type": "code",
      "execution_count": null,
      "id": "ca2eabc7-6a14-4a85-9796-be80baa1df16",
      "metadata": {
        "colab": {
          "base_uri": "https://localhost:8080/"
        },
        "id": "ca2eabc7-6a14-4a85-9796-be80baa1df16",
        "outputId": "6e8dea01-4536-44a3-ac00-f5053804f983"
      },
      "outputs": [
        {
          "output_type": "stream",
          "name": "stderr",
          "text": [
            "/usr/local/lib/python3.10/dist-packages/sklearn/feature_extraction/text.py:528: UserWarning: The parameter 'token_pattern' will not be used since 'tokenizer' is not None'\n",
            "  warnings.warn(\n"
          ]
        },
        {
          "output_type": "stream",
          "name": "stdout",
          "text": [
            "              precision    recall  f1-score   support\n",
            "\n",
            "           0       0.95      0.59      0.73      2413\n",
            "           1       0.34      0.88      0.49       567\n",
            "\n",
            "    accuracy                           0.65      2980\n",
            "   macro avg       0.64      0.74      0.61      2980\n",
            "weighted avg       0.84      0.65      0.68      2980\n",
            "\n"
          ]
        }
      ],
      "source": [
        "vec = CountVectorizer(ngram_range=(3, 3), tokenizer=word_tokenize, stop_words='english')\n",
        "bow = vec.fit_transform(Xtrain['Tweet'])\n",
        "clf = DecisionTreeClassifier()\n",
        "clf.fit(bow, ytrain)\n",
        "ypredtest = clf.predict(vec.transform(Xtest['Tweet']))\n",
        "print(classification_report(ypredtest, ytest))"
      ]
    },
    {
      "cell_type": "code",
      "execution_count": null,
      "id": "668fb1ba-154e-4738-b3b8-ea2c3ff1e1c0",
      "metadata": {
        "colab": {
          "base_uri": "https://localhost:8080/"
        },
        "id": "668fb1ba-154e-4738-b3b8-ea2c3ff1e1c0",
        "outputId": "b43c3349-420a-4be0-8728-d158417f2469"
      },
      "outputs": [
        {
          "output_type": "execute_result",
          "data": {
            "text/plain": [
              "[('citizen , remember', 38495),\n",
              " (', remember powers', 11238),\n",
              " ('remember powers government', 85950),\n",
              " ('powers government spring', 82601),\n",
              " ('government spring sovereign', 52539),\n",
              " ('spring sovereign !', 92869),\n",
              " ('local seo :', 70148),\n",
              " ('seo : voice', 90007),\n",
              " (': voice online', 24058),\n",
              " ('voice online market', 102294)]"
            ]
          },
          "metadata": {},
          "execution_count": 31
        }
      ],
      "source": [
        "list(vec.vocabulary_.items())[:10]"
      ]
    },
    {
      "cell_type": "markdown",
      "id": "20c53652-5373-4a39-abc2-c810359f7180",
      "metadata": {
        "id": "20c53652-5373-4a39-abc2-c810359f7180"
      },
      "source": [
        "Проверим гипотезу о том, что ссылки сильнее всего влияют на определение спама"
      ]
    },
    {
      "cell_type": "code",
      "execution_count": null,
      "id": "18298f1d-dff0-4d92-ad14-6a4d297a54f9",
      "metadata": {
        "id": "18298f1d-dff0-4d92-ad14-6a4d297a54f9"
      },
      "outputs": [],
      "source": [
        "tweets = list(data['Tweet'])\n",
        "nums = []\n",
        "\n",
        "for num, w in enumerate(tweets):\n",
        "    if 't.co' in w:\n",
        "        nums.append(num)"
      ]
    },
    {
      "cell_type": "code",
      "execution_count": null,
      "id": "f3268106-e8dc-4b31-a544-50252afcb110",
      "metadata": {
        "id": "f3268106-e8dc-4b31-a544-50252afcb110"
      },
      "outputs": [],
      "source": [
        "spamham = list(data['Type'])\n",
        "needed = []\n",
        "for i, w in enumerate(spamham):\n",
        "    if i in nums:\n",
        "        needed.append(w)"
      ]
    },
    {
      "cell_type": "code",
      "execution_count": null,
      "id": "12227072-5779-4db1-9a70-054694c2e252",
      "metadata": {
        "colab": {
          "base_uri": "https://localhost:8080/"
        },
        "id": "12227072-5779-4db1-9a70-054694c2e252",
        "outputId": "80e03c41-c385-4c51-f6c1-dc5c9bb741bd"
      },
      "outputs": [
        {
          "output_type": "execute_result",
          "data": {
            "text/plain": [
              "Counter({1: 4551, 0: 67})"
            ]
          },
          "metadata": {},
          "execution_count": 34
        }
      ],
      "source": [
        "from collections import Counter\n",
        "\n",
        "Counter(needed)"
      ]
    },
    {
      "cell_type": "markdown",
      "id": "f31ffa5c-4976-4cad-a2d7-a9a0136c7a82",
      "metadata": {
        "id": "f31ffa5c-4976-4cad-a2d7-a9a0136c7a82"
      },
      "source": [
        "Оказывается, подавляющее большинство текстов со ссылками определено как спам."
      ]
    },
    {
      "cell_type": "markdown",
      "id": "637c8f0a-31b1-4030-9250-6b46937b6368",
      "metadata": {
        "id": "637c8f0a-31b1-4030-9250-6b46937b6368"
      },
      "source": [
        "А теперь давайте посмотрим, как можно было ту же задачу решить с помощью эмбеддингов Doc2Vec из gensim."
      ]
    },
    {
      "cell_type": "code",
      "execution_count": null,
      "id": "9fe54d55-80f3-4ef7-83e1-8fb65fd32c3e",
      "metadata": {
        "colab": {
          "base_uri": "https://localhost:8080/"
        },
        "id": "9fe54d55-80f3-4ef7-83e1-8fb65fd32c3e",
        "outputId": "a7768845-045e-4140-94db-3728be9a872d"
      },
      "outputs": [
        {
          "output_type": "stream",
          "name": "stdout",
          "text": [
            "Requirement already satisfied: gensim in /usr/local/lib/python3.10/dist-packages (4.3.2)\n",
            "Requirement already satisfied: numpy>=1.18.5 in /usr/local/lib/python3.10/dist-packages (from gensim) (1.25.2)\n",
            "Requirement already satisfied: scipy>=1.7.0 in /usr/local/lib/python3.10/dist-packages (from gensim) (1.11.4)\n",
            "Requirement already satisfied: smart-open>=1.8.1 in /usr/local/lib/python3.10/dist-packages (from gensim) (6.4.0)\n"
          ]
        }
      ],
      "source": [
        "!pip install gensim"
      ]
    },
    {
      "cell_type": "code",
      "execution_count": null,
      "id": "4394f25b-4416-4c94-9eac-e544b9cb6c2d",
      "metadata": {
        "tags": [],
        "id": "4394f25b-4416-4c94-9eac-e544b9cb6c2d"
      },
      "outputs": [],
      "source": [
        "from gensim.models import Doc2Vec # возвращает эмбеддинги для текста\n",
        "import gensim\n",
        "from gensim.models.doc2vec import TaggedDocument\n",
        "from sklearn import utils\n",
        "from tqdm import tqdm"
      ]
    },
    {
      "cell_type": "code",
      "execution_count": null,
      "id": "72df8abc-58c4-4263-8970-08b8f656a5e5",
      "metadata": {
        "tags": [],
        "colab": {
          "base_uri": "https://localhost:8080/",
          "height": 35
        },
        "id": "72df8abc-58c4-4263-8970-08b8f656a5e5",
        "outputId": "b2de7fd8-e287-43b4-f925-712dee4fabdb"
      },
      "outputs": [
        {
          "output_type": "execute_result",
          "data": {
            "text/plain": [
              "'4.3.2'"
            ],
            "application/vnd.google.colaboratory.intrinsic+json": {
              "type": "string"
            }
          },
          "metadata": {},
          "execution_count": 37
        }
      ],
      "source": [
        "gensim.__version__"
      ]
    },
    {
      "cell_type": "code",
      "execution_count": null,
      "id": "0734942d-3f23-454d-9978-6f1d67944692",
      "metadata": {
        "tags": [],
        "colab": {
          "base_uri": "https://localhost:8080/"
        },
        "id": "0734942d-3f23-454d-9978-6f1d67944692",
        "outputId": "40be0470-7fcc-4231-c0ab-4e179b293372"
      },
      "outputs": [
        {
          "output_type": "stream",
          "name": "stderr",
          "text": [
            "[nltk_data] Downloading package punkt to /root/nltk_data...\n",
            "[nltk_data]   Package punkt is already up-to-date!\n"
          ]
        }
      ],
      "source": [
        "import nltk\n",
        "from nltk.corpus import stopwords\n",
        "nltk.download('punkt')\n",
        "\n",
        "def tokenize_text(text):\n",
        "    '''gensim сам токенизировать не умеет, поэтому нам придется сделать это за него'''\n",
        "    tokens = []\n",
        "    for sent in nltk.sent_tokenize(text):\n",
        "        for word in nltk.word_tokenize(sent):\n",
        "            if len(word) < 2:\n",
        "                continue\n",
        "            tokens.append(word.lower())\n",
        "    return tokens\n",
        "\n",
        "train, test = train_test_split(data[['Tweet', 'Type']], test_size=0.3, random_state=42)\n",
        "\n",
        "# соберем специальный объект класса TaggedDocument, чтобы D2V работал\n",
        "train_tagged = train.apply(\n",
        "    lambda r: TaggedDocument(words=tokenize_text(r['Tweet']), tags=[r.Type]), axis=1)\n",
        "test_tagged = test.apply(\n",
        "    lambda r: TaggedDocument(words=tokenize_text(r['Tweet']), tags=[r.Type]), axis=1)"
      ]
    },
    {
      "cell_type": "markdown",
      "id": "22258bfc-6d37-4170-af79-911ca044f878",
      "metadata": {
        "id": "22258bfc-6d37-4170-af79-911ca044f878"
      },
      "source": [
        "Воспользуемся тем, что у большинства современных процессоров больше одного ядра..."
      ]
    },
    {
      "cell_type": "code",
      "execution_count": null,
      "id": "bb43bf50-547c-47b8-9173-085198af0371",
      "metadata": {
        "tags": [],
        "id": "bb43bf50-547c-47b8-9173-085198af0371"
      },
      "outputs": [],
      "source": [
        "import multiprocessing # Global interpreter lock - ограничивает ядра процессора (сейчас только 1 ядро)\n",
        "cores = multiprocessing.cpu_count()"
      ]
    },
    {
      "cell_type": "code",
      "source": [
        "cores # нужно чтобы doc2vec учился быстрее"
      ],
      "metadata": {
        "colab": {
          "base_uri": "https://localhost:8080/"
        },
        "id": "ucFCMzY7tcsY",
        "outputId": "053d20d0-5085-4d61-f4d9-d699f890a568"
      },
      "id": "ucFCMzY7tcsY",
      "execution_count": null,
      "outputs": [
        {
          "output_type": "execute_result",
          "data": {
            "text/plain": [
              "2"
            ]
          },
          "metadata": {},
          "execution_count": 44
        }
      ]
    },
    {
      "cell_type": "markdown",
      "id": "b27a2c9f-33ff-49d5-bab3-bbbe928ca1f3",
      "metadata": {
        "id": "b27a2c9f-33ff-49d5-bab3-bbbe928ca1f3"
      },
      "source": [
        "Обучим модельку DBoW (Distributed Bag of Words)"
      ]
    },
    {
      "cell_type": "code",
      "execution_count": null,
      "id": "90869a91-564d-40cc-80d6-fee5bd73a764",
      "metadata": {
        "tags": [],
        "colab": {
          "base_uri": "https://localhost:8080/"
        },
        "id": "90869a91-564d-40cc-80d6-fee5bd73a764",
        "outputId": "b1674361-46a2-41b5-d6a9-6ab3befcd79f"
      },
      "outputs": [
        {
          "output_type": "stream",
          "name": "stderr",
          "text": [
            "100%|██████████| 10427/10427 [00:00<00:00, 1142625.94it/s]\n"
          ]
        }
      ],
      "source": [
        "model_dbow = Doc2Vec(dm=0, vector_size=300, negative=5, hs=0, min_count=2, sample=0, workers=cores)\n",
        "model_dbow.build_vocab([x for x in tqdm(train_tagged.values)])"
      ]
    },
    {
      "cell_type": "code",
      "execution_count": null,
      "id": "c071a3e0-4089-489d-abc0-88337c995c66",
      "metadata": {
        "tags": [],
        "colab": {
          "base_uri": "https://localhost:8080/"
        },
        "id": "c071a3e0-4089-489d-abc0-88337c995c66",
        "outputId": "a12e13d7-4319-491c-95ba-67c003ff7f50"
      },
      "outputs": [
        {
          "output_type": "stream",
          "name": "stderr",
          "text": [
            "100%|██████████| 10427/10427 [00:00<00:00, 792613.01it/s]\n",
            "100%|██████████| 10427/10427 [00:00<00:00, 745817.76it/s]\n",
            "WARNING:gensim.models.word2vec:Effective 'alpha' higher than previous training cycles\n",
            "100%|██████████| 10427/10427 [00:00<00:00, 1253698.19it/s]\n",
            "100%|██████████| 10427/10427 [00:00<00:00, 1752936.30it/s]\n",
            "100%|██████████| 10427/10427 [00:00<00:00, 1618219.78it/s]\n",
            "100%|██████████| 10427/10427 [00:00<00:00, 1622662.80it/s]\n",
            "100%|██████████| 10427/10427 [00:00<00:00, 1367200.44it/s]\n",
            "100%|██████████| 10427/10427 [00:00<00:00, 1628099.46it/s]\n",
            "100%|██████████| 10427/10427 [00:00<00:00, 1657030.57it/s]\n",
            "100%|██████████| 10427/10427 [00:00<00:00, 1710497.80it/s]\n",
            "100%|██████████| 10427/10427 [00:00<00:00, 1546409.53it/s]\n",
            "100%|██████████| 10427/10427 [00:00<00:00, 1544225.41it/s]\n",
            "100%|██████████| 10427/10427 [00:00<00:00, 1566123.82it/s]\n",
            "100%|██████████| 10427/10427 [00:00<00:00, 1717281.49it/s]\n",
            "100%|██████████| 10427/10427 [00:00<00:00, 1378664.90it/s]\n",
            "100%|██████████| 10427/10427 [00:00<00:00, 1615350.81it/s]\n",
            "100%|██████████| 10427/10427 [00:00<00:00, 1238888.64it/s]\n",
            "100%|██████████| 10427/10427 [00:00<00:00, 1527398.73it/s]\n",
            "100%|██████████| 10427/10427 [00:00<00:00, 1099037.72it/s]\n",
            "100%|██████████| 10427/10427 [00:00<00:00, 1388381.20it/s]\n",
            "100%|██████████| 10427/10427 [00:00<00:00, 940051.33it/s]\n",
            "100%|██████████| 10427/10427 [00:00<00:00, 1468027.52it/s]\n",
            "100%|██████████| 10427/10427 [00:00<00:00, 1686162.93it/s]\n",
            "100%|██████████| 10427/10427 [00:00<00:00, 1511822.73it/s]\n",
            "100%|██████████| 10427/10427 [00:00<00:00, 1743224.16it/s]\n",
            "100%|██████████| 10427/10427 [00:00<00:00, 1589576.12it/s]\n",
            "100%|██████████| 10427/10427 [00:00<00:00, 1428329.07it/s]\n",
            "100%|██████████| 10427/10427 [00:00<00:00, 771826.55it/s]\n",
            "100%|██████████| 10427/10427 [00:00<00:00, 1415569.12it/s]\n",
            "100%|██████████| 10427/10427 [00:00<00:00, 1700058.61it/s]\n"
          ]
        }
      ],
      "source": [
        "for epoch in range(30): # ЭПОХА - модель не учится на всех данных сразу на датасэте (считает градиенты по датасету). Эпоха - это когда модель обучитлась по всему датасету\n",
        "    model_dbow.train(utils.shuffle([x for x in tqdm(train_tagged.values)]), total_examples=len(train_tagged.values), epochs=1)\n",
        "    model_dbow.alpha -= 0.002\n",
        "    model_dbow.min_alpha = model_dbow.alpha"
      ]
    },
    {
      "cell_type": "markdown",
      "id": "41e9adc0-23c5-4934-86ae-990d0dff1caf",
      "metadata": {
        "id": "41e9adc0-23c5-4934-86ae-990d0dff1caf"
      },
      "source": [
        "Напишем аналог transform для D2V:"
      ]
    },
    {
      "cell_type": "code",
      "execution_count": null,
      "id": "a74264ac-dc40-437d-8b03-d7954cea9822",
      "metadata": {
        "tags": [],
        "id": "a74264ac-dc40-437d-8b03-d7954cea9822"
      },
      "outputs": [],
      "source": [
        "def vec_for_learning(model, tagged_docs):\n",
        "    sents = tagged_docs.values\n",
        "    targets, regressors = zip(*[(doc.tags[0], model.infer_vector(doc.words)) for doc in sents])\n",
        "    return targets, regressors"
      ]
    },
    {
      "cell_type": "markdown",
      "id": "947130a0-6eb2-4595-8084-e88a58a99f38",
      "metadata": {
        "id": "947130a0-6eb2-4595-8084-e88a58a99f38"
      },
      "source": [
        "Обучим банальную логистическую регрессию"
      ]
    },
    {
      "cell_type": "code",
      "execution_count": null,
      "id": "bfa49355-ceaf-4aaf-af8e-b7c0471e2f67",
      "metadata": {
        "tags": [],
        "colab": {
          "base_uri": "https://localhost:8080/"
        },
        "id": "bfa49355-ceaf-4aaf-af8e-b7c0471e2f67",
        "outputId": "00719522-bf49-4296-bef5-ef4d5e141f1f"
      },
      "outputs": [
        {
          "output_type": "stream",
          "name": "stdout",
          "text": [
            "Testing accuracy 0.6572706935123043\n",
            "Testing F1 score: 0.6569136394927754\n"
          ]
        }
      ],
      "source": [
        "y_train, X_train = vec_for_learning(model_dbow, train_tagged)\n",
        "y_test, X_test = vec_for_learning(model_dbow, test_tagged)\n",
        "logreg = LogisticRegression(solver='liblinear', n_jobs=1, C=1e5)\n",
        "logreg.fit(X_train, y_train)\n",
        "y_pred = logreg.predict(X_test)\n",
        "from sklearn.metrics import accuracy_score, f1_score\n",
        "print('Testing accuracy %s' % accuracy_score(y_test, y_pred))\n",
        "print('Testing F1 score: {}'.format(f1_score(y_test, y_pred, average='weighted')))"
      ]
    },
    {
      "cell_type": "markdown",
      "id": "72cdc5e0-6a8a-4ade-80fd-bffd745d260d",
      "metadata": {
        "id": "72cdc5e0-6a8a-4ade-80fd-bffd745d260d"
      },
      "source": [
        "С другими алгоритмами можете побаловаться сами."
      ]
    },
    {
      "cell_type": "code",
      "execution_count": null,
      "id": "85639436-6b32-467f-ac27-37e11f404c3c",
      "metadata": {
        "id": "85639436-6b32-467f-ac27-37e11f404c3c"
      },
      "outputs": [],
      "source": []
    }
  ],
  "metadata": {
    "kernelspec": {
      "display_name": "Python 3 (ipykernel)",
      "language": "python",
      "name": "python3"
    },
    "language_info": {
      "codemirror_mode": {
        "name": "ipython",
        "version": 3
      },
      "file_extension": ".py",
      "mimetype": "text/x-python",
      "name": "python",
      "nbconvert_exporter": "python",
      "pygments_lexer": "ipython3",
      "version": "3.11.5"
    },
    "colab": {
      "provenance": []
    }
  },
  "nbformat": 4,
  "nbformat_minor": 5
}